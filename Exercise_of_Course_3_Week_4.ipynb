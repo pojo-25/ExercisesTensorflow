{
  "nbformat": 4,
  "nbformat_minor": 0,
  "metadata": {
    "colab": {
      "name": "Exercise_of Course_3_Week_4.ipynb",
      "provenance": [],
      "collapsed_sections": [],
      "include_colab_link": true
    },
    "kernelspec": {
      "name": "python3",
      "display_name": "Python 3"
    },
    "accelerator": "GPU"
  },
  "cells": [
    {
      "cell_type": "markdown",
      "metadata": {
        "id": "view-in-github",
        "colab_type": "text"
      },
      "source": [
        "<a href=\"https://colab.research.google.com/github/pojo-25/ExercisesTensorflow/blob/main/Exercise_of_Course_3_Week_4.ipynb\" target=\"_parent\"><img src=\"https://colab.research.google.com/assets/colab-badge.svg\" alt=\"Open In Colab\"/></a>"
      ]
    },
    {
      "cell_type": "code",
      "metadata": {
        "id": "BOwsuGQQY9OL"
      },
      "source": [
        "from tensorflow.keras.preprocessing.sequence import pad_sequences\n",
        "from tensorflow.keras.layers import Embedding, LSTM, Dense, Dropout, Bidirectional\n",
        "from tensorflow.keras.preprocessing.text import Tokenizer\n",
        "from tensorflow.keras.models import Sequential\n",
        "from tensorflow.keras.optimizers import Adam\n",
        "from tensorflow.keras import regularizers\n",
        "import tensorflow.keras.utils as ku \n",
        "import numpy as np "
      ],
      "execution_count": 1,
      "outputs": []
    },
    {
      "cell_type": "code",
      "metadata": {
        "id": "PRnDnCW-Z7qv",
        "colab": {
          "base_uri": "https://localhost:8080/"
        },
        "outputId": "72d67177-d027-4585-ceb6-b817af06007e"
      },
      "source": [
        "tokenizer = Tokenizer()\n",
        "!wget --no-check-certificate \\\n",
        "    https://storage.googleapis.com/laurencemoroney-blog.appspot.com/sonnets.txt \\\n",
        "    -O /content/sample_data/sonnets.txt\n",
        "data = open('/content/sample_data/sonnets.txt').read()\n",
        "\n",
        "corpus = data.lower().split(\"\\n\")\n",
        "\n",
        "\n",
        "tokenizer.fit_on_texts(corpus)\n",
        "total_words = len(tokenizer.word_index) + 1\n",
        "\n",
        "# create input sequences using list of tokens\n",
        "input_sequences = []\n",
        "for line in corpus:\n",
        "\ttoken_list = tokenizer.texts_to_sequences([line])[0]\n",
        "\tfor i in range(1, len(token_list)):\n",
        "\t\tn_gram_sequence = token_list[:i+1]\n",
        "\t\tinput_sequences.append(n_gram_sequence)\n",
        "\n",
        "\n",
        "# pad sequences \n",
        "max_sequence_len = max([len(x) for x in input_sequences])\n",
        "input_sequences = np.array(pad_sequences(input_sequences, maxlen=max_sequence_len, padding='pre'))\n",
        "\n",
        "# create predictors and label\n",
        "predictors, label = input_sequences[:,:-1],input_sequences[:,-1]\n",
        "\n",
        "label = ku.to_categorical(label, num_classes=total_words)"
      ],
      "execution_count": 2,
      "outputs": [
        {
          "output_type": "stream",
          "text": [
            "--2021-08-09 05:12:02--  https://storage.googleapis.com/laurencemoroney-blog.appspot.com/sonnets.txt\n",
            "Resolving storage.googleapis.com (storage.googleapis.com)... 142.250.141.128, 142.251.2.128, 74.125.137.128, ...\n",
            "Connecting to storage.googleapis.com (storage.googleapis.com)|142.250.141.128|:443... connected.\n",
            "HTTP request sent, awaiting response... 200 OK\n",
            "Length: 93578 (91K) [text/plain]\n",
            "Saving to: ‘/content/sample_data/sonnets.txt’\n",
            "\n",
            "\r          /content/   0%[                    ]       0  --.-KB/s               \r/content/sample_dat 100%[===================>]  91.38K  --.-KB/s    in 0.001s  \n",
            "\n",
            "2021-08-09 05:12:02 (68.7 MB/s) - ‘/content/sample_data/sonnets.txt’ saved [93578/93578]\n",
            "\n"
          ],
          "name": "stdout"
        }
      ]
    },
    {
      "cell_type": "code",
      "metadata": {
        "colab": {
          "base_uri": "https://localhost:8080/"
        },
        "id": "lUF4hXCzVkKY",
        "outputId": "ddb1cf09-8332-46eb-a941-8569d8838d89"
      },
      "source": [
        "label"
      ],
      "execution_count": 3,
      "outputs": [
        {
          "output_type": "execute_result",
          "data": {
            "text/plain": [
              "array([[0., 0., 0., ..., 0., 0., 0.],\n",
              "       [0., 0., 0., ..., 0., 0., 0.],\n",
              "       [0., 0., 0., ..., 0., 0., 0.],\n",
              "       ...,\n",
              "       [0., 0., 0., ..., 0., 0., 1.],\n",
              "       [0., 0., 0., ..., 0., 0., 0.],\n",
              "       [0., 0., 0., ..., 0., 0., 0.]], dtype=float32)"
            ]
          },
          "metadata": {
            "tags": []
          },
          "execution_count": 3
        }
      ]
    },
    {
      "cell_type": "code",
      "metadata": {
        "id": "w9vH8Y59ajYL",
        "colab": {
          "base_uri": "https://localhost:8080/"
        },
        "outputId": "a242ba40-b541-4b10-fe9f-dc69472b9e47"
      },
      "source": [
        "model = Sequential()\n",
        "model.add(Embedding(total_words, 100, input_length=max_sequence_len-1))\n",
        "model.add(Bidirectional(LSTM(150, return_sequences = True)))\n",
        "model.add(Dropout(0.2))\n",
        "model.add(LSTM(100))\n",
        "model.add(Dense(total_words/2, activation='relu', kernel_regularizer=regularizers.l2(0.01)))\n",
        "model.add(Dense(total_words, activation='softmax'))\n",
        "model.compile(loss='categorical_crossentropy', optimizer='adam', metrics=['accuracy'])\n",
        "print(model.summary())\n"
      ],
      "execution_count": 4,
      "outputs": [
        {
          "output_type": "stream",
          "text": [
            "Model: \"sequential\"\n",
            "_________________________________________________________________\n",
            "Layer (type)                 Output Shape              Param #   \n",
            "=================================================================\n",
            "embedding (Embedding)        (None, 10, 100)           321100    \n",
            "_________________________________________________________________\n",
            "bidirectional (Bidirectional (None, 10, 300)           301200    \n",
            "_________________________________________________________________\n",
            "dropout (Dropout)            (None, 10, 300)           0         \n",
            "_________________________________________________________________\n",
            "lstm_1 (LSTM)                (None, 100)               160400    \n",
            "_________________________________________________________________\n",
            "dense (Dense)                (None, 1605)              162105    \n",
            "_________________________________________________________________\n",
            "dense_1 (Dense)              (None, 3211)              5156866   \n",
            "=================================================================\n",
            "Total params: 6,101,671\n",
            "Trainable params: 6,101,671\n",
            "Non-trainable params: 0\n",
            "_________________________________________________________________\n",
            "None\n"
          ],
          "name": "stdout"
        }
      ]
    },
    {
      "cell_type": "code",
      "metadata": {
        "id": "AIg2f1HBxqof",
        "colab": {
          "base_uri": "https://localhost:8080/"
        },
        "outputId": "540d1c17-2d49-43a9-99ca-e534f169fedc"
      },
      "source": [
        " history = model.fit(predictors, label, epochs=100, verbose=1)"
      ],
      "execution_count": 5,
      "outputs": [
        {
          "output_type": "stream",
          "text": [
            "Epoch 1/100\n",
            "484/484 [==============================] - 16s 14ms/step - loss: 6.9036 - accuracy: 0.0231\n",
            "Epoch 2/100\n",
            "484/484 [==============================] - 7s 14ms/step - loss: 6.4984 - accuracy: 0.0218\n",
            "Epoch 3/100\n",
            "484/484 [==============================] - 7s 14ms/step - loss: 6.4045 - accuracy: 0.0235\n",
            "Epoch 4/100\n",
            "484/484 [==============================] - 6s 13ms/step - loss: 6.2790 - accuracy: 0.0296\n",
            "Epoch 5/100\n",
            "484/484 [==============================] - 6s 12ms/step - loss: 6.1747 - accuracy: 0.0358\n",
            "Epoch 6/100\n",
            "484/484 [==============================] - 6s 12ms/step - loss: 6.0953 - accuracy: 0.0382\n",
            "Epoch 7/100\n",
            "484/484 [==============================] - 6s 12ms/step - loss: 6.0151 - accuracy: 0.0407\n",
            "Epoch 8/100\n",
            "484/484 [==============================] - 6s 12ms/step - loss: 5.9309 - accuracy: 0.0437\n",
            "Epoch 9/100\n",
            "484/484 [==============================] - 6s 12ms/step - loss: 5.8307 - accuracy: 0.0503\n",
            "Epoch 10/100\n",
            "484/484 [==============================] - 6s 12ms/step - loss: 5.7195 - accuracy: 0.0559\n",
            "Epoch 11/100\n",
            "484/484 [==============================] - 6s 13ms/step - loss: 5.6105 - accuracy: 0.0630\n",
            "Epoch 12/100\n",
            "484/484 [==============================] - 6s 13ms/step - loss: 5.5039 - accuracy: 0.0723\n",
            "Epoch 13/100\n",
            "484/484 [==============================] - 6s 13ms/step - loss: 5.4015 - accuracy: 0.0772\n",
            "Epoch 14/100\n",
            "484/484 [==============================] - 6s 13ms/step - loss: 5.2969 - accuracy: 0.0854\n",
            "Epoch 15/100\n",
            "484/484 [==============================] - 6s 12ms/step - loss: 5.1958 - accuracy: 0.0943\n",
            "Epoch 16/100\n",
            "484/484 [==============================] - 6s 13ms/step - loss: 5.1010 - accuracy: 0.1023\n",
            "Epoch 17/100\n",
            "484/484 [==============================] - 6s 13ms/step - loss: 4.9975 - accuracy: 0.1078\n",
            "Epoch 18/100\n",
            "484/484 [==============================] - 6s 13ms/step - loss: 4.9048 - accuracy: 0.1154\n",
            "Epoch 19/100\n",
            "484/484 [==============================] - 6s 12ms/step - loss: 4.8094 - accuracy: 0.1233\n",
            "Epoch 20/100\n",
            "484/484 [==============================] - 6s 12ms/step - loss: 4.7093 - accuracy: 0.1385\n",
            "Epoch 21/100\n",
            "484/484 [==============================] - 6s 13ms/step - loss: 4.6175 - accuracy: 0.1453\n",
            "Epoch 22/100\n",
            "484/484 [==============================] - 6s 13ms/step - loss: 4.5226 - accuracy: 0.1536\n",
            "Epoch 23/100\n",
            "484/484 [==============================] - 6s 13ms/step - loss: 4.4181 - accuracy: 0.1663\n",
            "Epoch 24/100\n",
            "484/484 [==============================] - 6s 13ms/step - loss: 4.3275 - accuracy: 0.1753\n",
            "Epoch 25/100\n",
            "484/484 [==============================] - 6s 13ms/step - loss: 4.2243 - accuracy: 0.1874\n",
            "Epoch 26/100\n",
            "484/484 [==============================] - 6s 12ms/step - loss: 4.1209 - accuracy: 0.1996\n",
            "Epoch 27/100\n",
            "484/484 [==============================] - 6s 12ms/step - loss: 4.0129 - accuracy: 0.2183\n",
            "Epoch 28/100\n",
            "484/484 [==============================] - 6s 12ms/step - loss: 3.9256 - accuracy: 0.2266\n",
            "Epoch 29/100\n",
            "484/484 [==============================] - 6s 12ms/step - loss: 3.8290 - accuracy: 0.2443\n",
            "Epoch 30/100\n",
            "484/484 [==============================] - 6s 12ms/step - loss: 3.7181 - accuracy: 0.2590\n",
            "Epoch 31/100\n",
            "484/484 [==============================] - 6s 12ms/step - loss: 3.6373 - accuracy: 0.2727\n",
            "Epoch 32/100\n",
            "484/484 [==============================] - 6s 13ms/step - loss: 3.5325 - accuracy: 0.2953\n",
            "Epoch 33/100\n",
            "484/484 [==============================] - 6s 13ms/step - loss: 3.4422 - accuracy: 0.3193\n",
            "Epoch 34/100\n",
            "484/484 [==============================] - 6s 13ms/step - loss: 3.3452 - accuracy: 0.3347\n",
            "Epoch 35/100\n",
            "484/484 [==============================] - 6s 13ms/step - loss: 3.2638 - accuracy: 0.3568\n",
            "Epoch 36/100\n",
            "484/484 [==============================] - 6s 12ms/step - loss: 3.1887 - accuracy: 0.3740\n",
            "Epoch 37/100\n",
            "484/484 [==============================] - 6s 12ms/step - loss: 3.1119 - accuracy: 0.3871\n",
            "Epoch 38/100\n",
            "484/484 [==============================] - 6s 12ms/step - loss: 3.0256 - accuracy: 0.4139\n",
            "Epoch 39/100\n",
            "484/484 [==============================] - 6s 12ms/step - loss: 2.9597 - accuracy: 0.4261\n",
            "Epoch 40/100\n",
            "484/484 [==============================] - 6s 12ms/step - loss: 2.8879 - accuracy: 0.4434\n",
            "Epoch 41/100\n",
            "484/484 [==============================] - 6s 12ms/step - loss: 2.8182 - accuracy: 0.4561\n",
            "Epoch 42/100\n",
            "484/484 [==============================] - 6s 12ms/step - loss: 2.7530 - accuracy: 0.4709\n",
            "Epoch 43/100\n",
            "484/484 [==============================] - 6s 13ms/step - loss: 2.6796 - accuracy: 0.4875\n",
            "Epoch 44/100\n",
            "484/484 [==============================] - 6s 13ms/step - loss: 2.6272 - accuracy: 0.5043\n",
            "Epoch 45/100\n",
            "484/484 [==============================] - 6s 13ms/step - loss: 2.5668 - accuracy: 0.5166\n",
            "Epoch 46/100\n",
            "484/484 [==============================] - 7s 13ms/step - loss: 2.5145 - accuracy: 0.5290\n",
            "Epoch 47/100\n",
            "484/484 [==============================] - 6s 12ms/step - loss: 2.4521 - accuracy: 0.5385\n",
            "Epoch 48/100\n",
            "484/484 [==============================] - 6s 13ms/step - loss: 2.4016 - accuracy: 0.5499\n",
            "Epoch 49/100\n",
            "484/484 [==============================] - 6s 13ms/step - loss: 2.3600 - accuracy: 0.5627\n",
            "Epoch 50/100\n",
            "484/484 [==============================] - 6s 13ms/step - loss: 2.3053 - accuracy: 0.5747\n",
            "Epoch 51/100\n",
            "484/484 [==============================] - 6s 13ms/step - loss: 2.2605 - accuracy: 0.5847\n",
            "Epoch 52/100\n",
            "484/484 [==============================] - 6s 13ms/step - loss: 2.2183 - accuracy: 0.5906\n",
            "Epoch 53/100\n",
            "484/484 [==============================] - 6s 12ms/step - loss: 2.1745 - accuracy: 0.6018\n",
            "Epoch 54/100\n",
            "484/484 [==============================] - 6s 12ms/step - loss: 2.1280 - accuracy: 0.6119\n",
            "Epoch 55/100\n",
            "484/484 [==============================] - 6s 13ms/step - loss: 2.0818 - accuracy: 0.6218\n",
            "Epoch 56/100\n",
            "484/484 [==============================] - 6s 12ms/step - loss: 2.0421 - accuracy: 0.6374\n",
            "Epoch 57/100\n",
            "484/484 [==============================] - 6s 12ms/step - loss: 2.0153 - accuracy: 0.6367\n",
            "Epoch 58/100\n",
            "484/484 [==============================] - 6s 12ms/step - loss: 1.9839 - accuracy: 0.6414\n",
            "Epoch 59/100\n",
            "484/484 [==============================] - 6s 13ms/step - loss: 1.9408 - accuracy: 0.6503\n",
            "Epoch 60/100\n",
            "484/484 [==============================] - 6s 13ms/step - loss: 1.8919 - accuracy: 0.6669\n",
            "Epoch 61/100\n",
            "484/484 [==============================] - 6s 13ms/step - loss: 1.8679 - accuracy: 0.6699\n",
            "Epoch 62/100\n",
            "484/484 [==============================] - 6s 13ms/step - loss: 1.8325 - accuracy: 0.6777\n",
            "Epoch 63/100\n",
            "484/484 [==============================] - 6s 12ms/step - loss: 1.8260 - accuracy: 0.6759\n",
            "Epoch 64/100\n",
            "484/484 [==============================] - 6s 12ms/step - loss: 1.7821 - accuracy: 0.6904\n",
            "Epoch 65/100\n",
            "484/484 [==============================] - 6s 12ms/step - loss: 1.7496 - accuracy: 0.6942\n",
            "Epoch 66/100\n",
            "484/484 [==============================] - 6s 12ms/step - loss: 1.7239 - accuracy: 0.7007\n",
            "Epoch 67/100\n",
            "484/484 [==============================] - 6s 12ms/step - loss: 1.6942 - accuracy: 0.7068\n",
            "Epoch 68/100\n",
            "484/484 [==============================] - 6s 12ms/step - loss: 1.6688 - accuracy: 0.7099\n",
            "Epoch 69/100\n",
            "484/484 [==============================] - 6s 12ms/step - loss: 1.6466 - accuracy: 0.7155\n",
            "Epoch 70/100\n",
            "484/484 [==============================] - 6s 13ms/step - loss: 1.6131 - accuracy: 0.7235\n",
            "Epoch 71/100\n",
            "484/484 [==============================] - 6s 13ms/step - loss: 1.6062 - accuracy: 0.7218\n",
            "Epoch 72/100\n",
            "484/484 [==============================] - 6s 13ms/step - loss: 1.5854 - accuracy: 0.7284\n",
            "Epoch 73/100\n",
            "484/484 [==============================] - 7s 14ms/step - loss: 1.5497 - accuracy: 0.7324\n",
            "Epoch 74/100\n",
            "484/484 [==============================] - 6s 12ms/step - loss: 1.5365 - accuracy: 0.7363\n",
            "Epoch 75/100\n",
            "484/484 [==============================] - 6s 12ms/step - loss: 1.5143 - accuracy: 0.7381\n",
            "Epoch 76/100\n",
            "484/484 [==============================] - 6s 12ms/step - loss: 1.4902 - accuracy: 0.7449\n",
            "Epoch 77/100\n",
            "484/484 [==============================] - 6s 12ms/step - loss: 1.4671 - accuracy: 0.7467\n",
            "Epoch 78/100\n",
            "484/484 [==============================] - 6s 12ms/step - loss: 1.4624 - accuracy: 0.7480\n",
            "Epoch 79/100\n",
            "484/484 [==============================] - 6s 12ms/step - loss: 1.4389 - accuracy: 0.7548\n",
            "Epoch 80/100\n",
            "484/484 [==============================] - 6s 12ms/step - loss: 1.4184 - accuracy: 0.7559\n",
            "Epoch 81/100\n",
            "484/484 [==============================] - 6s 13ms/step - loss: 1.4223 - accuracy: 0.7574\n",
            "Epoch 82/100\n",
            "484/484 [==============================] - 6s 13ms/step - loss: 1.4005 - accuracy: 0.7582\n",
            "Epoch 83/100\n",
            "484/484 [==============================] - 6s 13ms/step - loss: 1.3664 - accuracy: 0.7666\n",
            "Epoch 84/100\n",
            "484/484 [==============================] - 6s 13ms/step - loss: 1.3464 - accuracy: 0.7719\n",
            "Epoch 85/100\n",
            "484/484 [==============================] - 6s 12ms/step - loss: 1.3485 - accuracy: 0.7690\n",
            "Epoch 86/100\n",
            "484/484 [==============================] - 6s 12ms/step - loss: 1.3281 - accuracy: 0.7719\n",
            "Epoch 87/100\n",
            "484/484 [==============================] - 6s 12ms/step - loss: 1.3198 - accuracy: 0.7742\n",
            "Epoch 88/100\n",
            "484/484 [==============================] - 6s 12ms/step - loss: 1.2984 - accuracy: 0.7800\n",
            "Epoch 89/100\n",
            "484/484 [==============================] - 6s 12ms/step - loss: 1.2875 - accuracy: 0.7781\n",
            "Epoch 90/100\n",
            "484/484 [==============================] - 6s 12ms/step - loss: 1.2753 - accuracy: 0.7820\n",
            "Epoch 91/100\n",
            "484/484 [==============================] - 6s 12ms/step - loss: 1.2708 - accuracy: 0.7819\n",
            "Epoch 92/100\n",
            "484/484 [==============================] - 6s 13ms/step - loss: 1.2533 - accuracy: 0.7863\n",
            "Epoch 93/100\n",
            "484/484 [==============================] - 6s 13ms/step - loss: 1.2473 - accuracy: 0.7850\n",
            "Epoch 94/100\n",
            "484/484 [==============================] - 6s 13ms/step - loss: 1.2375 - accuracy: 0.7872\n",
            "Epoch 95/100\n",
            "484/484 [==============================] - 6s 13ms/step - loss: 1.2319 - accuracy: 0.7877\n",
            "Epoch 96/100\n",
            "484/484 [==============================] - 6s 12ms/step - loss: 1.2054 - accuracy: 0.7939\n",
            "Epoch 97/100\n",
            "484/484 [==============================] - 6s 13ms/step - loss: 1.1904 - accuracy: 0.7939\n",
            "Epoch 98/100\n",
            "484/484 [==============================] - 7s 13ms/step - loss: 1.1899 - accuracy: 0.7948\n",
            "Epoch 99/100\n",
            "484/484 [==============================] - 6s 13ms/step - loss: 1.1821 - accuracy: 0.7977\n",
            "Epoch 100/100\n",
            "484/484 [==============================] - 6s 13ms/step - loss: 1.1764 - accuracy: 0.7963\n"
          ],
          "name": "stdout"
        }
      ]
    },
    {
      "cell_type": "code",
      "metadata": {
        "id": "1fXTEO3GJ282",
        "colab": {
          "base_uri": "https://localhost:8080/",
          "height": 545
        },
        "outputId": "413f2ecf-7ab4-4d06-c01e-6a9347c4c248"
      },
      "source": [
        "import matplotlib.pyplot as plt\n",
        "acc = history.history['accuracy']\n",
        "loss = history.history['loss']\n",
        "\n",
        "epochs = range(len(acc))\n",
        "\n",
        "plt.plot(epochs, acc, 'b', label='Training accuracy')\n",
        "plt.title('Training accuracy')\n",
        "\n",
        "plt.figure()\n",
        "\n",
        "plt.plot(epochs, loss, 'b', label='Training Loss')\n",
        "plt.title('Training loss')\n",
        "plt.legend()\n",
        "\n",
        "plt.show()"
      ],
      "execution_count": 7,
      "outputs": [
        {
          "output_type": "display_data",
          "data": {
            "image/png": "[encoded data removed]",
            "text/plain": [
              "<Figure size 432x288 with 1 Axes>"
            ]
          },
          "metadata": {
            "tags": [],
            "needs_background": "light"
          }
        },
        {
          "output_type": "display_data",
          "data": {
            "image/png": "[encoded data removed]",
            "text/plain": [
              "<Figure size 432x288 with 1 Axes>"
            ]
          },
          "metadata": {
            "tags": [],
            "needs_background": "light"
          }
        }
      ]
    },
    {
      "cell_type": "code",
      "metadata": {
        "id": "6Vc6PHgxa6Hm",
        "colab": {
          "base_uri": "https://localhost:8080/"
        },
        "outputId": "a277de8a-c592-4c3e-bebc-f75d1ce5df6c"
      },
      "source": [
        "seed_text = \"Help me Obi Wan Kenobi, you're my only hope\"\n",
        "next_words = 100\n",
        "  \n",
        "for _ in range(next_words):\n",
        "\ttoken_list = tokenizer.texts_to_sequences([seed_text])[0]\n",
        "\ttoken_list = pad_sequences([token_list], maxlen=max_sequence_len-1, padding='pre')\n",
        "\tpredicted = model.predict_classes(token_list, verbose=0)\n",
        "\toutput_word = \"\"\n",
        "\tfor word, index in tokenizer.word_index.items():\n",
        "\t\tif index == predicted:\n",
        "\t\t\toutput_word = word\n",
        "\t\t\tbreak\n",
        "\tseed_text += \" \" + output_word\n",
        "print(seed_text)"
      ],
      "execution_count": 8,
      "outputs": [
        {
          "output_type": "stream",
          "text": [
            "/usr/local/lib/python3.7/dist-packages/tensorflow/python/keras/engine/sequential.py:455: UserWarning: `model.predict_classes()` is deprecated and will be removed after 2021-01-01. Please use instead:* `np.argmax(model.predict(x), axis=-1)`,   if your model does multi-class classification   (e.g. if it uses a `softmax` last-layer activation).* `(model.predict(x) > 0.5).astype(\"int32\")`,   if your model does binary classification   (e.g. if it uses a `sigmoid` last-layer activation).\n",
            "  warnings.warn('`model.predict_classes()` is deprecated and '\n"
          ],
          "name": "stderr"
        },
        {
          "output_type": "stream",
          "text": [
            "Help me Obi Wan Kenobi, you're my only hope out all thy wrong sight shines so cheeks gone on her pain away alone so have much had alone still you know so thee not he look he we lie prove thee prove still tend done live men still me bright in one for her old skill survey rare grow did slain slain dyed spent ' did flatter ' did feel canst leave not gladly grew it heaven clears swearing men prove prove true wrong state remain bright bright mind bail skill bail lies now seen shown seen lie did done have last still her blind for thee well he\n"
          ],
          "name": "stdout"
        }
      ]
    },
    {
      "cell_type": "code",
      "metadata": {
        "id": "nRN1EnbcYTEe"
      },
      "source": [
        ""
      ],
      "execution_count": null,
      "outputs": []
    }
  ]
}